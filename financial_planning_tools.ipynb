{
 "cells": [
  {
   "cell_type": "markdown",
   "metadata": {},
   "source": [
    "# Financial Planning with APIs and Simulations\n",
    "\n",
    "In this Challenge, you’ll create two financial analysis tools by using a single Jupyter notebook:\n",
    "\n",
    "Part 1: A financial planner for emergencies. The members will be able to use this tool to visualize their current savings. The members can then determine if they have enough reserves for an emergency fund.\n",
    "\n",
    "Part 2: A financial planner for retirement. This tool will forecast the performance of their retirement portfolio in 30 years. To do this, the tool will make an Alpaca API call via the Alpaca SDK to get historical price data for use in Monte Carlo simulations.\n",
    "\n",
    "You’ll use the information from the Monte Carlo simulation to answer questions about the portfolio in your Jupyter notebook.\n",
    "\n"
   ]
  },
  {
   "cell_type": "code",
   "execution_count": 1,
   "metadata": {
    "scrolled": true
   },
   "outputs": [],
   "source": [
    "# Import the required libraries and dependencies\n",
    "import os\n",
    "import requests\n",
    "import json\n",
    "import pandas as pd\n",
    "from dotenv import load_dotenv\n",
    "import alpaca_trade_api as tradeapi\n",
    "from MCForecastTools import MCSimulation\n",
    "\n",
    "%matplotlib inline"
   ]
  },
  {
   "cell_type": "code",
   "execution_count": 2,
   "metadata": {},
   "outputs": [
    {
     "data": {
      "text/plain": [
       "True"
      ]
     },
     "execution_count": 2,
     "metadata": {},
     "output_type": "execute_result"
    }
   ],
   "source": [
    "#Load the environment variables from the .env file\n",
    "\n",
    "load_dotenv()"
   ]
  },
  {
   "cell_type": "markdown",
   "metadata": {},
   "source": [
    "## Part 1: Create a Financial Planner for Emergencies"
   ]
  },
  {
   "cell_type": "markdown",
   "metadata": {},
   "source": [
    "### Evaluate the Cryptocurrency Wallet by Using the Requests Library\n",
    "\n",
    "In this section, you’ll determine the current value of a member’s cryptocurrency wallet. You’ll collect the current prices for the Bitcoin and Ethereum cryptocurrencies by using the Python Requests library. For the prototype, you’ll assume that the member holds the 1.2 Bitcoins (BTC) and 5.3 Ethereum coins (ETH). To do all this, complete the following steps:\n",
    "\n",
    "1. Create a variable named `monthly_income`, and set its value to `12000`.\n",
    "\n",
    "2. Use the Requests library to get the current price (in US dollars) of Bitcoin (BTC) and Ethereum (ETH) by using the API endpoints that the starter code supplies.\n",
    "\n",
    "3. Navigate the JSON response object to access the current price of each coin, and store each in a variable.\n",
    "\n",
    "    > **Hint** Note the specific identifier for each cryptocurrency in the API JSON response. The Bitcoin identifier is `1`, and the Ethereum identifier is `1027`.\n",
    "\n",
    "4. Calculate the value, in US dollars, of the current amount of each cryptocurrency and of the entire cryptocurrency wallet.\n",
    "\n"
   ]
  },
  {
   "cell_type": "code",
   "execution_count": 3,
   "metadata": {},
   "outputs": [],
   "source": [
    "# The current number of coins for each cryptocurrency asset held in the portfolio.\n",
    "btc_coins = 1.2\n",
    "eth_coins = 5.3"
   ]
  },
  {
   "cell_type": "markdown",
   "metadata": {},
   "source": [
    "#### Step 1: Create a variable named `monthly_income`, and set its value to `12000`."
   ]
  },
  {
   "cell_type": "code",
   "execution_count": 4,
   "metadata": {},
   "outputs": [],
   "source": [
    "# The monthly amount for the member's household income\n",
    "\n",
    "monthly_income = 12000"
   ]
  },
  {
   "cell_type": "markdown",
   "metadata": {},
   "source": [
    "#### Review the endpoint URLs for the API calls to Free Crypto API in order to get the current pricing information for both BTC and ETH."
   ]
  },
  {
   "cell_type": "code",
   "execution_count": 5,
   "metadata": {},
   "outputs": [],
   "source": [
    "# The Free Crypto API Call endpoint URLs for the held cryptocurrency assets\n",
    "btc_url = \"https://api.alternative.me/v2/ticker/Bitcoin/?convert=USD\"\n",
    "eth_url = \"https://api.alternative.me/v2/ticker/Ethereum/?convert=USD\""
   ]
  },
  {
   "cell_type": "markdown",
   "metadata": {},
   "source": [
    "#### Step 2. Use the Requests library to get the current price (in US dollars) of Bitcoin (BTC) and Ethereum (ETH) by using the API endpoints that the starter code supplied."
   ]
  },
  {
   "cell_type": "code",
   "execution_count": 6,
   "metadata": {},
   "outputs": [
    {
     "name": "stdout",
     "output_type": "stream",
     "text": [
      "{\n",
      "     \"data\": {\n",
      "          \"1\": {\n",
      "               \"circulating_supply\": 18747093,\n",
      "               \"id\": 1,\n",
      "               \"last_updated\": 1625338749,\n",
      "               \"max_supply\": 21000000,\n",
      "               \"name\": \"Bitcoin\",\n",
      "               \"quotes\": {\n",
      "                    \"USD\": {\n",
      "                         \"market_cap\": 652755239935,\n",
      "                         \"percent_change_1h\": -0.293898400500311,\n",
      "                         \"percent_change_24h\": 4.06760390870285,\n",
      "                         \"percent_change_7d\": 8.98290504501737,\n",
      "                         \"percentage_change_1h\": -0.293898400500311,\n",
      "                         \"percentage_change_24h\": 4.06760390870285,\n",
      "                         \"percentage_change_7d\": 8.98290504501737,\n",
      "                         \"price\": 34813.0,\n",
      "                         \"volume_24h\": 22940008516\n",
      "                    }\n",
      "               },\n",
      "               \"rank\": 1,\n",
      "               \"symbol\": \"BTC\",\n",
      "               \"total_supply\": 18747093,\n",
      "               \"website_slug\": \"bitcoin\"\n",
      "          }\n",
      "     },\n",
      "     \"metadata\": {\n",
      "          \"error\": null,\n",
      "          \"num_cryptocurrencies\": 1279,\n",
      "          \"timestamp\": 1625338749\n",
      "     }\n",
      "}\n"
     ]
    }
   ],
   "source": [
    "# Used the Python requests library to make an API call to access the current price of BTC\n",
    "btc_response = requests.get(btc_url).json()\n",
    "\n",
    "# Used the json.dumps function to review the response data from the API call\n",
    "# Used the indent and sort_keys parameters to make the response object readable\n",
    "btc_res = json.dumps(btc_response, indent = 5, sort_keys = True)\n",
    "print(btc_res)\n"
   ]
  },
  {
   "cell_type": "code",
   "execution_count": 7,
   "metadata": {},
   "outputs": [
    {
     "name": "stdout",
     "output_type": "stream",
     "text": [
      "{\n",
      "     \"data\": {\n",
      "          \"1027\": {\n",
      "               \"circulating_supply\": 116545378,\n",
      "               \"id\": 1027,\n",
      "               \"last_updated\": 1625338768,\n",
      "               \"max_supply\": 0,\n",
      "               \"name\": \"Ethereum\",\n",
      "               \"quotes\": {\n",
      "                    \"USD\": {\n",
      "                         \"market_cap\": 259564119927,\n",
      "                         \"percent_change_1h\": -0.321520016626476,\n",
      "                         \"percent_change_24h\": 6.0368303121661,\n",
      "                         \"percent_change_7d\": 21.6377498245894,\n",
      "                         \"percentage_change_1h\": -0.321520016626476,\n",
      "                         \"percentage_change_24h\": 6.0368303121661,\n",
      "                         \"percentage_change_7d\": 21.6377498245894,\n",
      "                         \"price\": 2230.18,\n",
      "                         \"volume_24h\": 20331312223\n",
      "                    }\n",
      "               },\n",
      "               \"rank\": 2,\n",
      "               \"symbol\": \"ETH\",\n",
      "               \"total_supply\": 116545378,\n",
      "               \"website_slug\": \"ethereum\"\n",
      "          }\n",
      "     },\n",
      "     \"metadata\": {\n",
      "          \"error\": null,\n",
      "          \"num_cryptocurrencies\": 1279,\n",
      "          \"timestamp\": 1625338768\n",
      "     }\n",
      "}\n"
     ]
    }
   ],
   "source": [
    "# Used the Python requests library to make an API call to access the current price ETH\n",
    "eth_response = requests.get(eth_url).json()\n",
    "eth_res = json.dumps(eth_response, indent = 5, sort_keys = True)\n",
    "print(eth_res)"
   ]
  },
  {
   "cell_type": "markdown",
   "metadata": {},
   "source": [
    "#### Step 3: Navigate the JSON response object to access the current price of each coin, and store each in a variable."
   ]
  },
  {
   "cell_type": "code",
   "execution_count": 8,
   "metadata": {},
   "outputs": [
    {
     "name": "stdout",
     "output_type": "stream",
     "text": [
      "34813.0\n"
     ]
    }
   ],
   "source": [
    "# Navigated the BTC response object to access the current price of BTC\n",
    "btc_data = json.loads(btc_res)\n",
    "btc_price = btc_data[\"data\"]['1']['quotes']['USD']['price']\n",
    "print(btc_price)\n",
    "\n"
   ]
  },
  {
   "cell_type": "code",
   "execution_count": 9,
   "metadata": {},
   "outputs": [
    {
     "name": "stdout",
     "output_type": "stream",
     "text": [
      "2230.18\n"
     ]
    }
   ],
   "source": [
    "# Navigated the BTC response object to access the current price of ETH\n",
    "eth_data = json.loads(eth_res)\n",
    "eth_price = eth_data[\"data\"]['1027']['quotes']['USD']['price']\n",
    "print(eth_price)\n",
    "\n"
   ]
  },
  {
   "cell_type": "markdown",
   "metadata": {},
   "source": [
    "### Step 4: Calculate the value, in US dollars, of the current amount of each cryptocurrency and of the entire cryptocurrency wallet."
   ]
  },
  {
   "cell_type": "code",
   "execution_count": 10,
   "metadata": {},
   "outputs": [
    {
     "name": "stdout",
     "output_type": "stream",
     "text": [
      "41775.6\n"
     ]
    }
   ],
   "source": [
    "# Computed and printed the current value of the BTC holding \n",
    "btc_value = btc_coins * btc_price\n",
    "print(btc_value)"
   ]
  },
  {
   "cell_type": "code",
   "execution_count": 11,
   "metadata": {},
   "outputs": [
    {
     "name": "stdout",
     "output_type": "stream",
     "text": [
      "11819.953999999998\n"
     ]
    }
   ],
   "source": [
    "# Computed and printed the current value of the ETH holding \n",
    "eth_value = eth_coins * eth_price\n",
    "\n",
    "print(eth_value)"
   ]
  },
  {
   "cell_type": "code",
   "execution_count": 12,
   "metadata": {},
   "outputs": [
    {
     "name": "stdout",
     "output_type": "stream",
     "text": [
      "53595.554\n"
     ]
    }
   ],
   "source": [
    "# Computed the total value of the cryptocurrency wallet\n",
    "# Add the value of the BTC holding to the value of the ETH holding\n",
    "total_crypto_wallet = btc_value + eth_value\n",
    "\n",
    "\n",
    "print(total_crypto_wallet)"
   ]
  },
  {
   "cell_type": "markdown",
   "metadata": {},
   "source": [
    "### Evaluate the Stock and Bond Holdings by Using the Alpaca SDK\n",
    "\n",
    "In this section, you’ll determine the current value of a member’s stock and bond holdings. You’ll make an API call to Alpaca via the Alpaca SDK to get the current closing prices of the SPDR S&P 500 ETF Trust (ticker: SPY) and of the iShares Core US Aggregate Bond ETF (ticker: AGG). For the prototype, assume that the member holds 110 shares of SPY, which represents the stock portion of their portfolio, and 200 shares of AGG, which represents the bond portion. To do all this, complete the following steps:\n",
    "\n",
    "1. In the `Starter_Code` folder, create an environment file (`.env`) to store the values of your Alpaca API key and Alpaca secret key.\n",
    "\n",
    "2. Set the variables for the Alpaca API and secret keys. Using the Alpaca SDK, create the Alpaca `tradeapi.REST` object. In this object, include the parameters for the Alpaca API key, the secret key, and the version number.\n",
    "\n",
    "3. Set the following parameters for the Alpaca API call:\n",
    "\n",
    "    - `tickers`: Use the tickers for the member’s stock and bond holdings.\n",
    "\n",
    "    - `timeframe`: Use a time frame of one day.\n",
    "\n",
    "    - `start_date` and `end_date`: Use the same date for these parameters, and format them with the date of the previous weekday (or `2020-08-07`). This is because you want the one closing price for the most-recent trading day.\n",
    "\n",
    "4. Get the current closing prices for `SPY` and `AGG` by using the Alpaca `get_barset` function. Format the response as a Pandas DataFrame by including the `df` property at the end of the `get_barset` function.\n",
    "\n",
    "5. Navigating the Alpaca response DataFrame, select the `SPY` and `AGG` closing prices, and store them as variables.\n",
    "\n",
    "6. Calculate the value, in US dollars, of the current amount of shares in each of the stock and bond portions of the portfolio, and print the results.\n"
   ]
  },
  {
   "cell_type": "markdown",
   "metadata": {},
   "source": [
    "#### Review the total number of shares held in both (SPY) and (AGG)."
   ]
  },
  {
   "cell_type": "code",
   "execution_count": 13,
   "metadata": {},
   "outputs": [],
   "source": [
    "# Current amount of shares held in both the stock (SPY) and bond (AGG) portion of the portfolio.\n",
    "spy_shares = 110\n",
    "agg_shares = 200\n"
   ]
  },
  {
   "cell_type": "markdown",
   "metadata": {},
   "source": [
    "#### Step 1: In the `Starter_Code` folder, create an environment file (`.env`) to store the values of your Alpaca API key and Alpaca secret key."
   ]
  },
  {
   "cell_type": "markdown",
   "metadata": {},
   "source": [
    "#### Step 2: Set the variables for the Alpaca API and secret keys. Using the Alpaca SDK, create the Alpaca `tradeapi.REST` object. In this object, include the parameters for the Alpaca API key, the secret key, and the version number."
   ]
  },
  {
   "cell_type": "code",
   "execution_count": 14,
   "metadata": {},
   "outputs": [
    {
     "name": "stdout",
     "output_type": "stream",
     "text": [
      "PKZ9JOVMYWCQV3B9XX7D\n",
      "RnYxh9Tsp7BpAItg4IyghTAGg1GRDnPvF9BhvQE9\n"
     ]
    }
   ],
   "source": [
    "# Set the variables for the Alpaca API and secret keys and created api REST call\n",
    "a_api_key = os.getenv(\"ALPACA_API_KEY\")\n",
    "a_secret_key = os.getenv(\"ALPACA_SECRET_KEY\")\n",
    "print(a_api_key)\n",
    "print(a_secret_key)\n",
    "api = tradeapi.REST(a_api_key, a_secret_key, api_version =\"v2\")"
   ]
  },
  {
   "cell_type": "markdown",
   "metadata": {},
   "source": [
    "#### Step 3: Set the following parameters for the Alpaca API call:\n",
    "\n",
    "- `tickers`: Use the tickers for the member’s stock and bond holdings.\n",
    "\n",
    "- `timeframe`: Use a time frame of one day.\n",
    "\n",
    "- `start_date` and `end_date`: Use the same date for these parameters, and format them with the date of the previous weekday (or `2020-08-07`). This is because you want the one closing price for the most-recent trading day.\n"
   ]
  },
  {
   "cell_type": "code",
   "execution_count": 15,
   "metadata": {},
   "outputs": [],
   "source": [
    "# Set the tickers for both the bond and stock portion of the portfolio and other paramters\n",
    "ticker1 = \"SPY\"\n",
    "ticker2 = \"AGG\"\n",
    "timeframe = \"1D\"\n",
    "start_date = pd.Timestamp('2020-08-07', tz = \"America/New_York\").isoformat()\n",
    "end_date = pd.Timestamp('2020-08-07', tz = \"America/New_York\").isoformat()\n",
    "\n",
    "\n",
    "\n"
   ]
  },
  {
   "cell_type": "markdown",
   "metadata": {},
   "source": [
    "#### Step 4: Get the current closing prices for `SPY` and `AGG` by using the Alpaca `get_barset` function. Format the response as a Pandas DataFrame by including the `df` property at the end of the `get_barset` function."
   ]
  },
  {
   "cell_type": "code",
   "execution_count": 19,
   "metadata": {},
   "outputs": [
    {
     "data": {
      "text/html": [
       "<div>\n",
       "<style scoped>\n",
       "    .dataframe tbody tr th:only-of-type {\n",
       "        vertical-align: middle;\n",
       "    }\n",
       "\n",
       "    .dataframe tbody tr th {\n",
       "        vertical-align: top;\n",
       "    }\n",
       "\n",
       "    .dataframe thead tr th {\n",
       "        text-align: left;\n",
       "    }\n",
       "\n",
       "    .dataframe thead tr:last-of-type th {\n",
       "        text-align: right;\n",
       "    }\n",
       "</style>\n",
       "<table border=\"1\" class=\"dataframe\">\n",
       "  <thead>\n",
       "    <tr>\n",
       "      <th></th>\n",
       "      <th colspan=\"5\" halign=\"left\">AGG</th>\n",
       "    </tr>\n",
       "    <tr>\n",
       "      <th></th>\n",
       "      <th>open</th>\n",
       "      <th>high</th>\n",
       "      <th>low</th>\n",
       "      <th>close</th>\n",
       "      <th>volume</th>\n",
       "    </tr>\n",
       "    <tr>\n",
       "      <th>time</th>\n",
       "      <th></th>\n",
       "      <th></th>\n",
       "      <th></th>\n",
       "      <th></th>\n",
       "      <th></th>\n",
       "    </tr>\n",
       "  </thead>\n",
       "  <tbody>\n",
       "    <tr>\n",
       "      <th>2020-08-07 00:00:00-04:00</th>\n",
       "      <td>119.66</td>\n",
       "      <td>119.73</td>\n",
       "      <td>119.395</td>\n",
       "      <td>119.445</td>\n",
       "      <td>8830420</td>\n",
       "    </tr>\n",
       "  </tbody>\n",
       "</table>\n",
       "</div>"
      ],
      "text/plain": [
       "                              AGG                                   \n",
       "                             open    high      low    close   volume\n",
       "time                                                                \n",
       "2020-08-07 00:00:00-04:00  119.66  119.73  119.395  119.445  8830420"
      ]
     },
     "execution_count": 19,
     "metadata": {},
     "output_type": "execute_result"
    }
   ],
   "source": [
    "# Used the Alpaca get_barset function to get current closing prices the portfolio\n",
    "ticker1_data = api.get_barset(ticker1, timeframe, start = start_date, end = end_date).df\n",
    "ticker2_data = api.get_barset(ticker2, timeframe, start = start_date, end = end_date).df\n",
    "\n",
    "ticker1_data.head()\n",
    "ticker2_data.head()\n"
   ]
  },
  {
   "cell_type": "markdown",
   "metadata": {},
   "source": [
    "#### Step 5: Navigating the Alpaca response DataFrame, select the `SPY` and `AGG` closing prices, and store them as variables."
   ]
  },
  {
   "cell_type": "code",
   "execution_count": 112,
   "metadata": {},
   "outputs": [
    {
     "name": "stdout",
     "output_type": "stream",
     "text": [
      "119.445\n"
     ]
    }
   ],
   "source": [
    "# Accessed the closing price for AGG from the Alpaca DataFrame\n",
    "agg_close_price = ticker2_data['AGG']['close'][0]\n",
    "\n",
    "print(agg_close_price)\n"
   ]
  },
  {
   "cell_type": "code",
   "execution_count": 113,
   "metadata": {},
   "outputs": [
    {
     "name": "stdout",
     "output_type": "stream",
     "text": [
      "334.55\n"
     ]
    }
   ],
   "source": [
    "# Accessed the closing price for SPY from the Alpaca DataFrame\n",
    "spy_close_price = ticker1_data['SPY']['close'][0]\n",
    "\n",
    "print(spy_close_price)\n"
   ]
  },
  {
   "cell_type": "markdown",
   "metadata": {},
   "source": [
    "#### Step 6: Calculate the value, in US dollars, of the current amount of shares in each of the stock and bond portions of the portfolio, and print the results."
   ]
  },
  {
   "cell_type": "code",
   "execution_count": 40,
   "metadata": {},
   "outputs": [
    {
     "name": "stdout",
     "output_type": "stream",
     "text": [
      "23889.0\n"
     ]
    }
   ],
   "source": [
    "# Calculated the current value of the bond portion of the portfolio\n",
    "agg_value = agg_shares * agg_close_price\n",
    "\n",
    "print(agg_value)\n"
   ]
  },
  {
   "cell_type": "code",
   "execution_count": 41,
   "metadata": {},
   "outputs": [
    {
     "name": "stdout",
     "output_type": "stream",
     "text": [
      "36800.5\n"
     ]
    }
   ],
   "source": [
    "# Calculated the current value of the stock portion of the portfolio\n",
    "spy_value = spy_shares * spy_close_price\n",
    "\n",
    "\n",
    "print(spy_value)"
   ]
  },
  {
   "cell_type": "code",
   "execution_count": 42,
   "metadata": {},
   "outputs": [
    {
     "name": "stdout",
     "output_type": "stream",
     "text": [
      "60689.5\n"
     ]
    }
   ],
   "source": [
    "# Calculated the total value of the stock and bond portion of the portfolio\n",
    "total_stocks_bonds = spy_value + agg_value\n",
    "\n",
    "\n",
    "print(total_stocks_bonds)\n"
   ]
  },
  {
   "cell_type": "code",
   "execution_count": 43,
   "metadata": {},
   "outputs": [
    {
     "name": "stdout",
     "output_type": "stream",
     "text": [
      "114285.054\n"
     ]
    }
   ],
   "source": [
    "# Calculated the total value of the member's entire savings portfolio\n",
    "total_portfolio = total_stocks_bonds + total_crypto_wallet\n",
    "\n",
    "\n",
    "print(total_portfolio)"
   ]
  },
  {
   "cell_type": "markdown",
   "metadata": {},
   "source": [
    "### Evaluate the Emergency Fund\n",
    "\n",
    "In this section, you’ll use the valuations for the cryptocurrency wallet and for the stock and bond portions of the portfolio to determine if the credit union member has enough savings to build an emergency fund into their financial plan. To do this, complete the following steps:\n",
    "\n",
    "1. Create a Python list named `savings_data` that has two elements. The first element contains the total value of the cryptocurrency wallet. The second element contains the total value of the stock and bond portions of the portfolio.\n",
    "\n",
    "2. Use the `savings_data` list to create a Pandas DataFrame named `savings_df`, and then display this DataFrame. The function to create the DataFrame should take the following three parameters:\n",
    "\n",
    "    - `savings_data`: Use the list that you just created.\n",
    "\n",
    "    - `columns`: Set this parameter equal to a Python list with a single value called `amount`.\n",
    "\n",
    "    - `index`: Set this parameter equal to a Python list with the values of `crypto` and `stock/bond`.\n",
    "\n",
    "3. Use the `savings_df` DataFrame to plot a pie chart that visualizes the composition of the member’s portfolio. The y-axis of the pie chart uses `amount`. Be sure to add a title.\n",
    "\n",
    "4. Using Python, determine if the current portfolio has enough to create an emergency fund as part of the member’s financial plan. Ideally, an emergency fund should equal to three times the member’s monthly income. To do this, implement the following steps:\n",
    "\n",
    "    1. Create a variable named `emergency_fund_value`, and set it equal to three times the value of the member’s `monthly_income` of $12000. (You set this earlier in Part 1).\n",
    "\n",
    "    2. Create a series of three if statements to determine if the member’s total portfolio is large enough to fund the emergency portfolio:\n",
    "\n",
    "        1. If the total portfolio value is greater than the emergency fund value, display a message congratulating the member for having enough money in this fund.\n",
    "\n",
    "        2. Else if the total portfolio value is equal to the emergency fund value, display a message congratulating the member on reaching this important financial goal.\n",
    "\n",
    "        3. Else the total portfolio is less than the emergency fund value, so display a message showing how many dollars away the member is from reaching the goal. (Subtract the total portfolio value from the emergency fund value.)\n"
   ]
  },
  {
   "cell_type": "markdown",
   "metadata": {},
   "source": [
    "#### Step 1: Create a Python list named `savings_data` that has two elements. The first element contains the total value of the cryptocurrency wallet. The second element contains the total value of the stock and bond portions of the portfolio."
   ]
  },
  {
   "cell_type": "code",
   "execution_count": 44,
   "metadata": {},
   "outputs": [
    {
     "name": "stdout",
     "output_type": "stream",
     "text": [
      "[53595.554, 60689.5]\n"
     ]
    }
   ],
   "source": [
    "# Consolidated financial assets data into a Python list\n",
    "# YOUR CODE HERE\n",
    "savings_data = [total_crypto_wallet, total_stocks_bonds]\n",
    "\n",
    "print(savings_data)\n",
    "    "
   ]
  },
  {
   "cell_type": "markdown",
   "metadata": {},
   "source": [
    "#### Step 2: Use the `savings_data` list to create a Pandas DataFrame named `savings_df`, and then display this DataFrame. The function to create the DataFrame should take the following three parameters:\n",
    "\n",
    "- `savings_data`: Use the list that you just created.\n",
    "\n",
    "- `columns`: Set this parameter equal to a Python list with a single value called `amount`.\n",
    "\n",
    "- `index`: Set this parameter equal to a Python list with the values of `crypto` and `stock/bond`.\n"
   ]
  },
  {
   "cell_type": "code",
   "execution_count": 48,
   "metadata": {},
   "outputs": [
    {
     "name": "stdout",
     "output_type": "stream",
     "text": [
      "                amount\n",
      "crypto       53595.554\n",
      "stocks/bond  60689.500\n"
     ]
    }
   ],
   "source": [
    "# Created a Pandas DataFrame called savings_df \n",
    "# YOUR CODE HERE\n",
    "\n",
    "savings_df = pd.DataFrame(savings_data, columns =[\"amount\"], index = [\"crypto\",\"stocks/bond\"])\n",
    "\n",
    "print(savings_df)\n"
   ]
  },
  {
   "cell_type": "markdown",
   "metadata": {},
   "source": [
    "#### Step 3: Use the `savings_df` DataFrame to plot a pie chart that visualizes the composition of the member’s portfolio. The y-axis of the pie chart uses `amount`. Be sure to add a title."
   ]
  },
  {
   "cell_type": "code",
   "execution_count": 52,
   "metadata": {},
   "outputs": [
    {
     "data": {
      "text/plain": [
       "<AxesSubplot:title={'center':'Portfolio Allocations Visualization'}, ylabel='amount'>"
      ]
     },
     "execution_count": 52,
     "metadata": {},
     "output_type": "execute_result"
    },
    {
     "data": {
      "image/png": "[encoded data removed]",
      "text/plain": [
       "<Figure size 1440x1440 with 1 Axes>"
      ]
     },
     "metadata": {},
     "output_type": "display_data"
    }
   ],
   "source": [
    "# Plotted the total value of the member's portfolio (crypto and stock/bond) in a pie chart\n",
    "\n",
    "savings_df.plot(kind='pie',y = 'amount', figsize = (20,20), title = \"Portfolio Allocations Visualization\")"
   ]
  },
  {
   "cell_type": "markdown",
   "metadata": {},
   "source": [
    "#### Step 4: Using Python, determine if the current portfolio has enough to create an emergency fund as part of the member’s financial plan. Ideally, an emergency fund should equal to three times the member’s monthly income. To do this, implement the following steps:\n",
    "\n",
    "Step 1. Create a variable named `emergency_fund_value`, and set it equal to three times the value of the member’s `monthly_income` of 12000. (You set this earlier in Part 1).\n",
    "\n",
    "Step 2. Create a series of three if statements to determine if the member’s total portfolio is large enough to fund the emergency portfolio:\n",
    "\n",
    "* If the total portfolio value is greater than the emergency fund value, display a message congratulating the member for having enough money in this fund.\n",
    "\n",
    "* Else if the total portfolio value is equal to the emergency fund value, display a message congratulating the member on reaching this important financial goal.\n",
    "\n",
    "* Else the total portfolio is less than the emergency fund value, so display a message showing how many dollars away the member is from reaching the goal. (Subtract the total portfolio value from the emergency fund value.)\n"
   ]
  },
  {
   "cell_type": "markdown",
   "metadata": {},
   "source": [
    "##### Step 4-1: Create a variable named `emergency_fund_value`, and set it equal to three times the value of the member’s `monthly_income` of 12000. (You set this earlier in Part 1)."
   ]
  },
  {
   "cell_type": "code",
   "execution_count": 55,
   "metadata": {},
   "outputs": [
    {
     "name": "stdout",
     "output_type": "stream",
     "text": [
      "36000\n"
     ]
    }
   ],
   "source": [
    "# Created a variable named emergency_fund_value\n",
    "\n",
    "emergency_fund_value = monthly_income *3\n",
    "print(emergency_fund_value)"
   ]
  },
  {
   "cell_type": "markdown",
   "metadata": {},
   "source": [
    "##### Step 4-2: Create a series of three if statements to determine if the member’s total portfolio is large enough to fund the emergency portfolio:\n",
    "\n",
    "* If the total portfolio value is greater than the emergency fund value, display a message congratulating the member for having enough money in this fund.\n",
    "\n",
    "* Else if the total portfolio value is equal to the emergency fund value, display a message congratulating the member on reaching this important financial goal.\n",
    "\n",
    "* Else the total portfolio is less than the emergency fund value, so display a message showing how many dollars away the member is from reaching the goal. (Subtract the total portfolio value from the emergency fund value.)"
   ]
  },
  {
   "cell_type": "code",
   "execution_count": 57,
   "metadata": {},
   "outputs": [
    {
     "name": "stdout",
     "output_type": "stream",
     "text": [
      "Congrats, you have enough money in this fund\n"
     ]
    }
   ],
   "source": [
    "# Evaluated the possibility of creating an emergency fund with 3 conditions:\n",
    "\n",
    "if total_portfolio > emergency_fund_value:\n",
    "    print(\"Congrats, you have enough money in this fund\")\n",
    "elif total_portfolio == emergency_fund_value:\n",
    "    print('Congrats on meeting this important financial goal')\n",
    "elif total_portfolio < emergency_fund_value:\n",
    "    print(f'You need {emergency_fund_value - total_portfolio} dollars to reach your goal')"
   ]
  },
  {
   "cell_type": "markdown",
   "metadata": {},
   "source": [
    "## Part 2: Create a Financial Planner for Retirement"
   ]
  },
  {
   "cell_type": "markdown",
   "metadata": {},
   "source": [
    "### Create the Monte Carlo Simulation\n",
    "\n",
    "In this section, you’ll use the MCForecastTools library to create a Monte Carlo simulation for the member’s savings portfolio. To do this, complete the following steps:\n",
    "\n",
    "1. Make an API call via the Alpaca SDK to get 10 years of historical closing prices for a traditional 60/40 portfolio split: 60% stocks (SPY) and 40% bonds (AGG).\n",
    "\n",
    "2. Run a Monte Carlo simulation of 500 samples and 30 years for the 60/40 portfolio, and then plot the results.The following image shows the overlay line plot resulting from a simulation with these characteristics. However, because a random number generator is used to run each live Monte Carlo simulation, your image will differ slightly from this exact image:\n",
    "\n",
    "![A screenshot depicts the resulting plot.](Images/5-4-monte-carlo-line-plot.png)\n",
    "\n",
    "3. Plot the probability distribution of the Monte Carlo simulation. Plot the probability distribution of the Monte Carlo simulation. The following image shows the histogram plot resulting from a simulation with these characteristics. However, because a random number generator is used to run each live Monte Carlo simulation, your image will differ slightly from this exact image:\n",
    "\n",
    "![A screenshot depicts the histogram plot.](Images/5-4-monte-carlo-histogram.png)\n",
    "\n",
    "4. Generate the summary statistics for the Monte Carlo simulation.\n",
    "\n"
   ]
  },
  {
   "cell_type": "markdown",
   "metadata": {},
   "source": [
    "#### Step 1: Make an API call via the Alpaca SDK to get 10 years of historical closing prices for a traditional 60/40 portfolio split: 60% stocks (SPY) and 40% bonds (AGG)."
   ]
  },
  {
   "cell_type": "code",
   "execution_count": 59,
   "metadata": {},
   "outputs": [],
   "source": [
    "# Set start and end dates of 10 years back from your current date\n",
    "\n",
    "start_date_1 = pd.Timestamp('2010-08-07', tz = \"America/New_York\").isoformat()\n",
    "end_date_1 = pd.Timestamp('2020-08-07', tz = \"America/New_York\").isoformat()"
   ]
  },
  {
   "cell_type": "code",
   "execution_count": 85,
   "metadata": {},
   "outputs": [
    {
     "data": {
      "text/html": [
       "<div>\n",
       "<style scoped>\n",
       "    .dataframe tbody tr th:only-of-type {\n",
       "        vertical-align: middle;\n",
       "    }\n",
       "\n",
       "    .dataframe tbody tr th {\n",
       "        vertical-align: top;\n",
       "    }\n",
       "\n",
       "    .dataframe thead tr th {\n",
       "        text-align: left;\n",
       "    }\n",
       "\n",
       "    .dataframe thead tr:last-of-type th {\n",
       "        text-align: right;\n",
       "    }\n",
       "</style>\n",
       "<table border=\"1\" class=\"dataframe\">\n",
       "  <thead>\n",
       "    <tr>\n",
       "      <th></th>\n",
       "      <th colspan=\"5\" halign=\"left\">AGG</th>\n",
       "      <th colspan=\"5\" halign=\"left\">SPY</th>\n",
       "    </tr>\n",
       "    <tr>\n",
       "      <th></th>\n",
       "      <th>open</th>\n",
       "      <th>high</th>\n",
       "      <th>low</th>\n",
       "      <th>close</th>\n",
       "      <th>volume</th>\n",
       "      <th>open</th>\n",
       "      <th>high</th>\n",
       "      <th>low</th>\n",
       "      <th>close</th>\n",
       "      <th>volume</th>\n",
       "    </tr>\n",
       "    <tr>\n",
       "      <th>time</th>\n",
       "      <th></th>\n",
       "      <th></th>\n",
       "      <th></th>\n",
       "      <th></th>\n",
       "      <th></th>\n",
       "      <th></th>\n",
       "      <th></th>\n",
       "      <th></th>\n",
       "      <th></th>\n",
       "      <th></th>\n",
       "    </tr>\n",
       "  </thead>\n",
       "  <tbody>\n",
       "    <tr>\n",
       "      <th>2020-03-18 00:00:00-04:00</th>\n",
       "      <td>109.36</td>\n",
       "      <td>110.5700</td>\n",
       "      <td>105.7707</td>\n",
       "      <td>106.330</td>\n",
       "      <td>30173684</td>\n",
       "      <td>236.2500</td>\n",
       "      <td>248.3700</td>\n",
       "      <td>228.02</td>\n",
       "      <td>241.01</td>\n",
       "      <td>256921808</td>\n",
       "    </tr>\n",
       "    <tr>\n",
       "      <th>2020-03-19 00:00:00-04:00</th>\n",
       "      <td>106.47</td>\n",
       "      <td>109.2200</td>\n",
       "      <td>105.5600</td>\n",
       "      <td>108.970</td>\n",
       "      <td>21031320</td>\n",
       "      <td>239.2500</td>\n",
       "      <td>247.3800</td>\n",
       "      <td>232.22</td>\n",
       "      <td>241.18</td>\n",
       "      <td>248430643</td>\n",
       "    </tr>\n",
       "    <tr>\n",
       "      <th>2020-03-20 00:00:00-04:00</th>\n",
       "      <td>108.46</td>\n",
       "      <td>110.2399</td>\n",
       "      <td>108.4600</td>\n",
       "      <td>109.490</td>\n",
       "      <td>28449412</td>\n",
       "      <td>242.5300</td>\n",
       "      <td>244.4700</td>\n",
       "      <td>228.50</td>\n",
       "      <td>228.94</td>\n",
       "      <td>286308782</td>\n",
       "    </tr>\n",
       "    <tr>\n",
       "      <th>2020-03-23 00:00:00-04:00</th>\n",
       "      <td>109.90</td>\n",
       "      <td>112.9400</td>\n",
       "      <td>109.0000</td>\n",
       "      <td>112.550</td>\n",
       "      <td>23873510</td>\n",
       "      <td>228.1900</td>\n",
       "      <td>229.6833</td>\n",
       "      <td>218.26</td>\n",
       "      <td>222.51</td>\n",
       "      <td>268298876</td>\n",
       "    </tr>\n",
       "    <tr>\n",
       "      <th>2020-03-24 00:00:00-04:00</th>\n",
       "      <td>111.52</td>\n",
       "      <td>113.5000</td>\n",
       "      <td>111.0754</td>\n",
       "      <td>113.290</td>\n",
       "      <td>18141498</td>\n",
       "      <td>234.4200</td>\n",
       "      <td>244.1000</td>\n",
       "      <td>233.80</td>\n",
       "      <td>243.59</td>\n",
       "      <td>203576470</td>\n",
       "    </tr>\n",
       "    <tr>\n",
       "      <th>2020-08-03 00:00:00-04:00</th>\n",
       "      <td>119.37</td>\n",
       "      <td>119.4000</td>\n",
       "      <td>119.1903</td>\n",
       "      <td>119.400</td>\n",
       "      <td>24615464</td>\n",
       "      <td>328.3200</td>\n",
       "      <td>329.6200</td>\n",
       "      <td>327.73</td>\n",
       "      <td>328.76</td>\n",
       "      <td>89861354</td>\n",
       "    </tr>\n",
       "    <tr>\n",
       "      <th>2020-08-04 00:00:00-04:00</th>\n",
       "      <td>119.42</td>\n",
       "      <td>119.6300</td>\n",
       "      <td>119.4200</td>\n",
       "      <td>119.630</td>\n",
       "      <td>21512268</td>\n",
       "      <td>327.8600</td>\n",
       "      <td>330.0600</td>\n",
       "      <td>327.86</td>\n",
       "      <td>330.03</td>\n",
       "      <td>73684427</td>\n",
       "    </tr>\n",
       "    <tr>\n",
       "      <th>2020-08-05 00:00:00-04:00</th>\n",
       "      <td>119.39</td>\n",
       "      <td>119.4900</td>\n",
       "      <td>119.3100</td>\n",
       "      <td>119.400</td>\n",
       "      <td>34239733</td>\n",
       "      <td>331.4700</td>\n",
       "      <td>332.3900</td>\n",
       "      <td>331.18</td>\n",
       "      <td>332.06</td>\n",
       "      <td>72941562</td>\n",
       "    </tr>\n",
       "    <tr>\n",
       "      <th>2020-08-06 00:00:00-04:00</th>\n",
       "      <td>119.62</td>\n",
       "      <td>119.7300</td>\n",
       "      <td>119.5300</td>\n",
       "      <td>119.580</td>\n",
       "      <td>9021388</td>\n",
       "      <td>331.4799</td>\n",
       "      <td>334.4600</td>\n",
       "      <td>331.13</td>\n",
       "      <td>334.31</td>\n",
       "      <td>76988181</td>\n",
       "    </tr>\n",
       "    <tr>\n",
       "      <th>2020-08-07 00:00:00-04:00</th>\n",
       "      <td>119.66</td>\n",
       "      <td>119.7300</td>\n",
       "      <td>119.3950</td>\n",
       "      <td>119.445</td>\n",
       "      <td>8830420</td>\n",
       "      <td>333.2800</td>\n",
       "      <td>334.8800</td>\n",
       "      <td>332.30</td>\n",
       "      <td>334.55</td>\n",
       "      <td>98710236</td>\n",
       "    </tr>\n",
       "  </tbody>\n",
       "</table>\n",
       "</div>"
      ],
      "text/plain": [
       "                              AGG                                         \\\n",
       "                             open      high       low    close    volume   \n",
       "time                                                                       \n",
       "2020-03-18 00:00:00-04:00  109.36  110.5700  105.7707  106.330  30173684   \n",
       "2020-03-19 00:00:00-04:00  106.47  109.2200  105.5600  108.970  21031320   \n",
       "2020-03-20 00:00:00-04:00  108.46  110.2399  108.4600  109.490  28449412   \n",
       "2020-03-23 00:00:00-04:00  109.90  112.9400  109.0000  112.550  23873510   \n",
       "2020-03-24 00:00:00-04:00  111.52  113.5000  111.0754  113.290  18141498   \n",
       "2020-08-03 00:00:00-04:00  119.37  119.4000  119.1903  119.400  24615464   \n",
       "2020-08-04 00:00:00-04:00  119.42  119.6300  119.4200  119.630  21512268   \n",
       "2020-08-05 00:00:00-04:00  119.39  119.4900  119.3100  119.400  34239733   \n",
       "2020-08-06 00:00:00-04:00  119.62  119.7300  119.5300  119.580   9021388   \n",
       "2020-08-07 00:00:00-04:00  119.66  119.7300  119.3950  119.445   8830420   \n",
       "\n",
       "                                SPY                                       \n",
       "                               open      high     low   close     volume  \n",
       "time                                                                      \n",
       "2020-03-18 00:00:00-04:00  236.2500  248.3700  228.02  241.01  256921808  \n",
       "2020-03-19 00:00:00-04:00  239.2500  247.3800  232.22  241.18  248430643  \n",
       "2020-03-20 00:00:00-04:00  242.5300  244.4700  228.50  228.94  286308782  \n",
       "2020-03-23 00:00:00-04:00  228.1900  229.6833  218.26  222.51  268298876  \n",
       "2020-03-24 00:00:00-04:00  234.4200  244.1000  233.80  243.59  203576470  \n",
       "2020-08-03 00:00:00-04:00  328.3200  329.6200  327.73  328.76   89861354  \n",
       "2020-08-04 00:00:00-04:00  327.8600  330.0600  327.86  330.03   73684427  \n",
       "2020-08-05 00:00:00-04:00  331.4700  332.3900  331.18  332.06   72941562  \n",
       "2020-08-06 00:00:00-04:00  331.4799  334.4600  331.13  334.31   76988181  \n",
       "2020-08-07 00:00:00-04:00  333.2800  334.8800  332.30  334.55   98710236  "
      ]
     },
     "execution_count": 85,
     "metadata": {},
     "output_type": "execute_result"
    }
   ],
   "source": [
    "# Used the Alpaca get_barset function to make the API call to get the 10 years worth of pricing data\n",
    "\n",
    "tick = ['SPY', \"AGG\"]\n",
    "ticker1_data_10 = api.get_barset(tick, timeframe, start = start_date_1, end = end_date_1).df\n",
    "\n",
    "ticker1_data_10.head(5).append(ticker1_data_10.tail(5))\n"
   ]
  },
  {
   "cell_type": "markdown",
   "metadata": {},
   "source": [
    "#### Step 2: Run a Monte Carlo simulation of 500 samples and 30 years for the 60/40 portfolio, and then plot the results."
   ]
  },
  {
   "cell_type": "code",
   "execution_count": 95,
   "metadata": {},
   "outputs": [],
   "source": [
    "# Configured the Monte Carlo simulation to forecast 30 years cumulative returns\n",
    "# The weights should be split 40% to AGG and 60% to SPY.\n",
    "num_sims = 500\n",
    "\n",
    "\n"
   ]
  },
  {
   "cell_type": "code",
   "execution_count": 98,
   "metadata": {},
   "outputs": [
    {
     "name": "stdout",
     "output_type": "stream",
     "text": [
      "Running Monte Carlo simulation number 0.\n",
      "Running Monte Carlo simulation number 10.\n",
      "Running Monte Carlo simulation number 20.\n",
      "Running Monte Carlo simulation number 30.\n",
      "Running Monte Carlo simulation number 40.\n",
      "Running Monte Carlo simulation number 50.\n",
      "Running Monte Carlo simulation number 60.\n",
      "Running Monte Carlo simulation number 70.\n",
      "Running Monte Carlo simulation number 80.\n",
      "Running Monte Carlo simulation number 90.\n",
      "Running Monte Carlo simulation number 100.\n",
      "Running Monte Carlo simulation number 110.\n",
      "Running Monte Carlo simulation number 120.\n",
      "Running Monte Carlo simulation number 130.\n",
      "Running Monte Carlo simulation number 140.\n",
      "Running Monte Carlo simulation number 150.\n",
      "Running Monte Carlo simulation number 160.\n",
      "Running Monte Carlo simulation number 170.\n",
      "Running Monte Carlo simulation number 180.\n",
      "Running Monte Carlo simulation number 190.\n",
      "Running Monte Carlo simulation number 200.\n",
      "Running Monte Carlo simulation number 210.\n",
      "Running Monte Carlo simulation number 220.\n",
      "Running Monte Carlo simulation number 230.\n",
      "Running Monte Carlo simulation number 240.\n",
      "Running Monte Carlo simulation number 250.\n",
      "Running Monte Carlo simulation number 260.\n",
      "Running Monte Carlo simulation number 270.\n",
      "Running Monte Carlo simulation number 280.\n",
      "Running Monte Carlo simulation number 290.\n",
      "Running Monte Carlo simulation number 300.\n",
      "Running Monte Carlo simulation number 310.\n",
      "Running Monte Carlo simulation number 320.\n",
      "Running Monte Carlo simulation number 330.\n",
      "Running Monte Carlo simulation number 340.\n",
      "Running Monte Carlo simulation number 350.\n",
      "Running Monte Carlo simulation number 360.\n",
      "Running Monte Carlo simulation number 370.\n",
      "Running Monte Carlo simulation number 380.\n",
      "Running Monte Carlo simulation number 390.\n",
      "Running Monte Carlo simulation number 400.\n",
      "Running Monte Carlo simulation number 410.\n",
      "Running Monte Carlo simulation number 420.\n",
      "Running Monte Carlo simulation number 430.\n",
      "Running Monte Carlo simulation number 440.\n",
      "Running Monte Carlo simulation number 450.\n",
      "Running Monte Carlo simulation number 460.\n",
      "Running Monte Carlo simulation number 470.\n",
      "Running Monte Carlo simulation number 480.\n",
      "Running Monte Carlo simulation number 490.\n"
     ]
    },
    {
     "data": {
      "text/html": [
       "<div>\n",
       "<style scoped>\n",
       "    .dataframe tbody tr th:only-of-type {\n",
       "        vertical-align: middle;\n",
       "    }\n",
       "\n",
       "    .dataframe tbody tr th {\n",
       "        vertical-align: top;\n",
       "    }\n",
       "\n",
       "    .dataframe thead th {\n",
       "        text-align: right;\n",
       "    }\n",
       "</style>\n",
       "<table border=\"1\" class=\"dataframe\">\n",
       "  <thead>\n",
       "    <tr style=\"text-align: right;\">\n",
       "      <th></th>\n",
       "      <th>0</th>\n",
       "      <th>1</th>\n",
       "      <th>2</th>\n",
       "      <th>3</th>\n",
       "      <th>4</th>\n",
       "      <th>5</th>\n",
       "      <th>6</th>\n",
       "      <th>7</th>\n",
       "      <th>8</th>\n",
       "      <th>9</th>\n",
       "      <th>...</th>\n",
       "      <th>490</th>\n",
       "      <th>491</th>\n",
       "      <th>492</th>\n",
       "      <th>493</th>\n",
       "      <th>494</th>\n",
       "      <th>495</th>\n",
       "      <th>496</th>\n",
       "      <th>497</th>\n",
       "      <th>498</th>\n",
       "      <th>499</th>\n",
       "    </tr>\n",
       "  </thead>\n",
       "  <tbody>\n",
       "    <tr>\n",
       "      <th>0</th>\n",
       "      <td>1.000000e+00</td>\n",
       "      <td>1.000000e+00</td>\n",
       "      <td>1.000000e+00</td>\n",
       "      <td>1.000000e+00</td>\n",
       "      <td>1.000000e+00</td>\n",
       "      <td>1.000000e+00</td>\n",
       "      <td>1.000000e+00</td>\n",
       "      <td>1.000000e+00</td>\n",
       "      <td>1.000000e+00</td>\n",
       "      <td>1.000000e+00</td>\n",
       "      <td>...</td>\n",
       "      <td>1.000000e+00</td>\n",
       "      <td>1.000000e+00</td>\n",
       "      <td>1.000000e+00</td>\n",
       "      <td>1.000000e+00</td>\n",
       "      <td>1.000000e+00</td>\n",
       "      <td>1.000000e+00</td>\n",
       "      <td>1.000000e+00</td>\n",
       "      <td>1.000000e+00</td>\n",
       "      <td>1.000000e+00</td>\n",
       "      <td>1.000000e+00</td>\n",
       "    </tr>\n",
       "    <tr>\n",
       "      <th>1</th>\n",
       "      <td>9.986203e-01</td>\n",
       "      <td>9.827255e-01</td>\n",
       "      <td>1.004549e+00</td>\n",
       "      <td>1.011284e+00</td>\n",
       "      <td>1.000255e+00</td>\n",
       "      <td>1.001579e+00</td>\n",
       "      <td>9.943128e-01</td>\n",
       "      <td>1.012989e+00</td>\n",
       "      <td>1.013793e+00</td>\n",
       "      <td>9.980755e-01</td>\n",
       "      <td>...</td>\n",
       "      <td>9.852224e-01</td>\n",
       "      <td>1.005919e+00</td>\n",
       "      <td>1.001298e+00</td>\n",
       "      <td>1.006920e+00</td>\n",
       "      <td>1.004509e+00</td>\n",
       "      <td>1.013390e+00</td>\n",
       "      <td>9.936132e-01</td>\n",
       "      <td>1.014841e+00</td>\n",
       "      <td>9.900104e-01</td>\n",
       "      <td>1.005292e+00</td>\n",
       "    </tr>\n",
       "    <tr>\n",
       "      <th>2</th>\n",
       "      <td>9.922118e-01</td>\n",
       "      <td>9.918704e-01</td>\n",
       "      <td>1.007804e+00</td>\n",
       "      <td>1.019403e+00</td>\n",
       "      <td>1.008002e+00</td>\n",
       "      <td>9.923075e-01</td>\n",
       "      <td>9.844156e-01</td>\n",
       "      <td>9.989934e-01</td>\n",
       "      <td>1.009360e+00</td>\n",
       "      <td>9.984841e-01</td>\n",
       "      <td>...</td>\n",
       "      <td>9.919602e-01</td>\n",
       "      <td>1.022624e+00</td>\n",
       "      <td>1.011400e+00</td>\n",
       "      <td>1.004921e+00</td>\n",
       "      <td>1.011091e+00</td>\n",
       "      <td>1.015629e+00</td>\n",
       "      <td>9.863379e-01</td>\n",
       "      <td>1.019112e+00</td>\n",
       "      <td>9.990970e-01</td>\n",
       "      <td>1.009689e+00</td>\n",
       "    </tr>\n",
       "    <tr>\n",
       "      <th>3</th>\n",
       "      <td>9.940884e-01</td>\n",
       "      <td>9.956092e-01</td>\n",
       "      <td>1.008204e+00</td>\n",
       "      <td>1.010831e+00</td>\n",
       "      <td>1.011382e+00</td>\n",
       "      <td>9.988263e-01</td>\n",
       "      <td>1.006846e+00</td>\n",
       "      <td>1.002783e+00</td>\n",
       "      <td>1.016790e+00</td>\n",
       "      <td>1.000587e+00</td>\n",
       "      <td>...</td>\n",
       "      <td>9.877521e-01</td>\n",
       "      <td>1.013914e+00</td>\n",
       "      <td>1.003859e+00</td>\n",
       "      <td>1.003056e+00</td>\n",
       "      <td>1.026596e+00</td>\n",
       "      <td>1.024068e+00</td>\n",
       "      <td>9.941681e-01</td>\n",
       "      <td>1.010300e+00</td>\n",
       "      <td>1.008362e+00</td>\n",
       "      <td>1.016946e+00</td>\n",
       "    </tr>\n",
       "    <tr>\n",
       "      <th>4</th>\n",
       "      <td>1.001158e+00</td>\n",
       "      <td>1.000464e+00</td>\n",
       "      <td>1.015085e+00</td>\n",
       "      <td>1.019172e+00</td>\n",
       "      <td>1.018865e+00</td>\n",
       "      <td>9.972688e-01</td>\n",
       "      <td>1.008356e+00</td>\n",
       "      <td>1.007856e+00</td>\n",
       "      <td>1.016880e+00</td>\n",
       "      <td>1.010418e+00</td>\n",
       "      <td>...</td>\n",
       "      <td>9.897879e-01</td>\n",
       "      <td>1.015106e+00</td>\n",
       "      <td>9.888132e-01</td>\n",
       "      <td>9.991049e-01</td>\n",
       "      <td>1.027007e+00</td>\n",
       "      <td>1.035729e+00</td>\n",
       "      <td>9.910778e-01</td>\n",
       "      <td>1.013935e+00</td>\n",
       "      <td>1.016317e+00</td>\n",
       "      <td>1.021177e+00</td>\n",
       "    </tr>\n",
       "    <tr>\n",
       "      <th>...</th>\n",
       "      <td>...</td>\n",
       "      <td>...</td>\n",
       "      <td>...</td>\n",
       "      <td>...</td>\n",
       "      <td>...</td>\n",
       "      <td>...</td>\n",
       "      <td>...</td>\n",
       "      <td>...</td>\n",
       "      <td>...</td>\n",
       "      <td>...</td>\n",
       "      <td>...</td>\n",
       "      <td>...</td>\n",
       "      <td>...</td>\n",
       "      <td>...</td>\n",
       "      <td>...</td>\n",
       "      <td>...</td>\n",
       "      <td>...</td>\n",
       "      <td>...</td>\n",
       "      <td>...</td>\n",
       "      <td>...</td>\n",
       "      <td>...</td>\n",
       "    </tr>\n",
       "    <tr>\n",
       "      <th>7556</th>\n",
       "      <td>1.132596e+07</td>\n",
       "      <td>7.786119e+06</td>\n",
       "      <td>4.710246e+06</td>\n",
       "      <td>6.738740e+06</td>\n",
       "      <td>1.062688e+07</td>\n",
       "      <td>1.373166e+07</td>\n",
       "      <td>8.209547e+07</td>\n",
       "      <td>1.480611e+07</td>\n",
       "      <td>3.878606e+06</td>\n",
       "      <td>3.051014e+06</td>\n",
       "      <td>...</td>\n",
       "      <td>1.584307e+07</td>\n",
       "      <td>1.317946e+07</td>\n",
       "      <td>8.557617e+06</td>\n",
       "      <td>5.716653e+06</td>\n",
       "      <td>1.904394e+06</td>\n",
       "      <td>1.026716e+07</td>\n",
       "      <td>1.812715e+07</td>\n",
       "      <td>1.495577e+07</td>\n",
       "      <td>5.906149e+06</td>\n",
       "      <td>1.741839e+07</td>\n",
       "    </tr>\n",
       "    <tr>\n",
       "      <th>7557</th>\n",
       "      <td>1.119692e+07</td>\n",
       "      <td>7.875797e+06</td>\n",
       "      <td>4.652590e+06</td>\n",
       "      <td>6.855616e+06</td>\n",
       "      <td>1.077541e+07</td>\n",
       "      <td>1.380713e+07</td>\n",
       "      <td>8.286742e+07</td>\n",
       "      <td>1.498353e+07</td>\n",
       "      <td>3.875630e+06</td>\n",
       "      <td>3.107330e+06</td>\n",
       "      <td>...</td>\n",
       "      <td>1.579872e+07</td>\n",
       "      <td>1.331100e+07</td>\n",
       "      <td>8.584614e+06</td>\n",
       "      <td>5.733837e+06</td>\n",
       "      <td>1.938161e+06</td>\n",
       "      <td>1.034299e+07</td>\n",
       "      <td>1.839446e+07</td>\n",
       "      <td>1.481347e+07</td>\n",
       "      <td>5.902066e+06</td>\n",
       "      <td>1.736174e+07</td>\n",
       "    </tr>\n",
       "    <tr>\n",
       "      <th>7558</th>\n",
       "      <td>1.122395e+07</td>\n",
       "      <td>7.719099e+06</td>\n",
       "      <td>4.661629e+06</td>\n",
       "      <td>6.920322e+06</td>\n",
       "      <td>1.077275e+07</td>\n",
       "      <td>1.397787e+07</td>\n",
       "      <td>8.374199e+07</td>\n",
       "      <td>1.541715e+07</td>\n",
       "      <td>3.896355e+06</td>\n",
       "      <td>3.110674e+06</td>\n",
       "      <td>...</td>\n",
       "      <td>1.594498e+07</td>\n",
       "      <td>1.322268e+07</td>\n",
       "      <td>8.578301e+06</td>\n",
       "      <td>5.676709e+06</td>\n",
       "      <td>1.936869e+06</td>\n",
       "      <td>1.024849e+07</td>\n",
       "      <td>1.846140e+07</td>\n",
       "      <td>1.494250e+07</td>\n",
       "      <td>5.887785e+06</td>\n",
       "      <td>1.748801e+07</td>\n",
       "    </tr>\n",
       "    <tr>\n",
       "      <th>7559</th>\n",
       "      <td>1.129594e+07</td>\n",
       "      <td>7.726682e+06</td>\n",
       "      <td>4.715983e+06</td>\n",
       "      <td>6.896661e+06</td>\n",
       "      <td>1.084127e+07</td>\n",
       "      <td>1.377026e+07</td>\n",
       "      <td>8.304001e+07</td>\n",
       "      <td>1.537759e+07</td>\n",
       "      <td>3.875321e+06</td>\n",
       "      <td>3.139027e+06</td>\n",
       "      <td>...</td>\n",
       "      <td>1.623857e+07</td>\n",
       "      <td>1.352774e+07</td>\n",
       "      <td>8.573546e+06</td>\n",
       "      <td>5.700912e+06</td>\n",
       "      <td>1.934033e+06</td>\n",
       "      <td>1.009185e+07</td>\n",
       "      <td>1.856676e+07</td>\n",
       "      <td>1.483212e+07</td>\n",
       "      <td>5.971839e+06</td>\n",
       "      <td>1.746732e+07</td>\n",
       "    </tr>\n",
       "    <tr>\n",
       "      <th>7560</th>\n",
       "      <td>1.135011e+07</td>\n",
       "      <td>7.706380e+06</td>\n",
       "      <td>4.680828e+06</td>\n",
       "      <td>6.942714e+06</td>\n",
       "      <td>1.081696e+07</td>\n",
       "      <td>1.364303e+07</td>\n",
       "      <td>8.292835e+07</td>\n",
       "      <td>1.520976e+07</td>\n",
       "      <td>3.881179e+06</td>\n",
       "      <td>3.197414e+06</td>\n",
       "      <td>...</td>\n",
       "      <td>1.634176e+07</td>\n",
       "      <td>1.353691e+07</td>\n",
       "      <td>8.632930e+06</td>\n",
       "      <td>5.743427e+06</td>\n",
       "      <td>1.930571e+06</td>\n",
       "      <td>1.004969e+07</td>\n",
       "      <td>1.873386e+07</td>\n",
       "      <td>1.498602e+07</td>\n",
       "      <td>6.055093e+06</td>\n",
       "      <td>1.743408e+07</td>\n",
       "    </tr>\n",
       "  </tbody>\n",
       "</table>\n",
       "<p>7561 rows × 500 columns</p>\n",
       "</div>"
      ],
      "text/plain": [
       "               0             1             2             3             4    \\\n",
       "0     1.000000e+00  1.000000e+00  1.000000e+00  1.000000e+00  1.000000e+00   \n",
       "1     9.986203e-01  9.827255e-01  1.004549e+00  1.011284e+00  1.000255e+00   \n",
       "2     9.922118e-01  9.918704e-01  1.007804e+00  1.019403e+00  1.008002e+00   \n",
       "3     9.940884e-01  9.956092e-01  1.008204e+00  1.010831e+00  1.011382e+00   \n",
       "4     1.001158e+00  1.000464e+00  1.015085e+00  1.019172e+00  1.018865e+00   \n",
       "...            ...           ...           ...           ...           ...   \n",
       "7556  1.132596e+07  7.786119e+06  4.710246e+06  6.738740e+06  1.062688e+07   \n",
       "7557  1.119692e+07  7.875797e+06  4.652590e+06  6.855616e+06  1.077541e+07   \n",
       "7558  1.122395e+07  7.719099e+06  4.661629e+06  6.920322e+06  1.077275e+07   \n",
       "7559  1.129594e+07  7.726682e+06  4.715983e+06  6.896661e+06  1.084127e+07   \n",
       "7560  1.135011e+07  7.706380e+06  4.680828e+06  6.942714e+06  1.081696e+07   \n",
       "\n",
       "               5             6             7             8             9    \\\n",
       "0     1.000000e+00  1.000000e+00  1.000000e+00  1.000000e+00  1.000000e+00   \n",
       "1     1.001579e+00  9.943128e-01  1.012989e+00  1.013793e+00  9.980755e-01   \n",
       "2     9.923075e-01  9.844156e-01  9.989934e-01  1.009360e+00  9.984841e-01   \n",
       "3     9.988263e-01  1.006846e+00  1.002783e+00  1.016790e+00  1.000587e+00   \n",
       "4     9.972688e-01  1.008356e+00  1.007856e+00  1.016880e+00  1.010418e+00   \n",
       "...            ...           ...           ...           ...           ...   \n",
       "7556  1.373166e+07  8.209547e+07  1.480611e+07  3.878606e+06  3.051014e+06   \n",
       "7557  1.380713e+07  8.286742e+07  1.498353e+07  3.875630e+06  3.107330e+06   \n",
       "7558  1.397787e+07  8.374199e+07  1.541715e+07  3.896355e+06  3.110674e+06   \n",
       "7559  1.377026e+07  8.304001e+07  1.537759e+07  3.875321e+06  3.139027e+06   \n",
       "7560  1.364303e+07  8.292835e+07  1.520976e+07  3.881179e+06  3.197414e+06   \n",
       "\n",
       "      ...           490           491           492           493  \\\n",
       "0     ...  1.000000e+00  1.000000e+00  1.000000e+00  1.000000e+00   \n",
       "1     ...  9.852224e-01  1.005919e+00  1.001298e+00  1.006920e+00   \n",
       "2     ...  9.919602e-01  1.022624e+00  1.011400e+00  1.004921e+00   \n",
       "3     ...  9.877521e-01  1.013914e+00  1.003859e+00  1.003056e+00   \n",
       "4     ...  9.897879e-01  1.015106e+00  9.888132e-01  9.991049e-01   \n",
       "...   ...           ...           ...           ...           ...   \n",
       "7556  ...  1.584307e+07  1.317946e+07  8.557617e+06  5.716653e+06   \n",
       "7557  ...  1.579872e+07  1.331100e+07  8.584614e+06  5.733837e+06   \n",
       "7558  ...  1.594498e+07  1.322268e+07  8.578301e+06  5.676709e+06   \n",
       "7559  ...  1.623857e+07  1.352774e+07  8.573546e+06  5.700912e+06   \n",
       "7560  ...  1.634176e+07  1.353691e+07  8.632930e+06  5.743427e+06   \n",
       "\n",
       "               494           495           496           497           498  \\\n",
       "0     1.000000e+00  1.000000e+00  1.000000e+00  1.000000e+00  1.000000e+00   \n",
       "1     1.004509e+00  1.013390e+00  9.936132e-01  1.014841e+00  9.900104e-01   \n",
       "2     1.011091e+00  1.015629e+00  9.863379e-01  1.019112e+00  9.990970e-01   \n",
       "3     1.026596e+00  1.024068e+00  9.941681e-01  1.010300e+00  1.008362e+00   \n",
       "4     1.027007e+00  1.035729e+00  9.910778e-01  1.013935e+00  1.016317e+00   \n",
       "...            ...           ...           ...           ...           ...   \n",
       "7556  1.904394e+06  1.026716e+07  1.812715e+07  1.495577e+07  5.906149e+06   \n",
       "7557  1.938161e+06  1.034299e+07  1.839446e+07  1.481347e+07  5.902066e+06   \n",
       "7558  1.936869e+06  1.024849e+07  1.846140e+07  1.494250e+07  5.887785e+06   \n",
       "7559  1.934033e+06  1.009185e+07  1.856676e+07  1.483212e+07  5.971839e+06   \n",
       "7560  1.930571e+06  1.004969e+07  1.873386e+07  1.498602e+07  6.055093e+06   \n",
       "\n",
       "               499  \n",
       "0     1.000000e+00  \n",
       "1     1.005292e+00  \n",
       "2     1.009689e+00  \n",
       "3     1.016946e+00  \n",
       "4     1.021177e+00  \n",
       "...            ...  \n",
       "7556  1.741839e+07  \n",
       "7557  1.736174e+07  \n",
       "7558  1.748801e+07  \n",
       "7559  1.746732e+07  \n",
       "7560  1.743408e+07  \n",
       "\n",
       "[7561 rows x 500 columns]"
      ]
     },
     "execution_count": 98,
     "metadata": {},
     "output_type": "execute_result"
    }
   ],
   "source": [
    "# Ran the Monte Carlo simulation to forecast 30 years cumulative returns\n",
    "\n",
    "MC_SP = MCSimulation(portfolio_data = ticker1_data_10, num_simulation = num_sims, num_trading_days = 252*30, weights = [0.6,0.4])\n",
    "MC_SP.calc_cumulative_return()"
   ]
  },
  {
   "cell_type": "code",
   "execution_count": 97,
   "metadata": {},
   "outputs": [
    {
     "data": {
      "text/plain": [
       "<AxesSubplot:title={'center':'500 Simulations of Cumulative Portfolio Return Trajectories Over the Next 252 Trading Days.'}>"
      ]
     },
     "execution_count": 97,
     "metadata": {},
     "output_type": "execute_result"
    },
    {
     "data": {
      "image/png": "[encoded data removed]",
      "text/plain": [
       "<Figure size 432x288 with 1 Axes>"
      ]
     },
     "metadata": {
      "needs_background": "light"
     },
     "output_type": "display_data"
    }
   ],
   "source": [
    "# Visualized the 30-year Monte Carlo simulation by creating an\n",
    "\n",
    "MC_SP.plot_simulation()"
   ]
  },
  {
   "cell_type": "markdown",
   "metadata": {},
   "source": [
    "#### Step 3: Plot the probability distribution of the Monte Carlo simulation."
   ]
  },
  {
   "cell_type": "code",
   "execution_count": 88,
   "metadata": {},
   "outputs": [
    {
     "data": {
      "text/plain": [
       "<AxesSubplot:title={'center':'Distribution of Final Cumuluative Returns Across All 500 Simulations'}, ylabel='Frequency'>"
      ]
     },
     "execution_count": 88,
     "metadata": {},
     "output_type": "execute_result"
    },
    {
     "data": {
      "image/png": "[encoded data removed]",
      "text/plain": [
       "<Figure size 432x288 with 1 Axes>"
      ]
     },
     "metadata": {
      "needs_background": "light"
     },
     "output_type": "display_data"
    }
   ],
   "source": [
    "# Visualized the probability distribution of the 30-year Monte Carlo simulation \n",
    "\n",
    "\n",
    "MC_SP.plot_distribution()"
   ]
  },
  {
   "cell_type": "markdown",
   "metadata": {},
   "source": [
    "#### Step 4: Generate the summary statistics for the Monte Carlo simulation."
   ]
  },
  {
   "cell_type": "code",
   "execution_count": 92,
   "metadata": {},
   "outputs": [
    {
     "name": "stdout",
     "output_type": "stream",
     "text": [
      "count           5.000000e+02\n",
      "mean            9.517184e+06\n",
      "std             8.676719e+06\n",
      "min             9.293113e+05\n",
      "25%             4.297067e+06\n",
      "50%             6.888843e+06\n",
      "75%             1.179178e+07\n",
      "max             6.937446e+07\n",
      "95% CI Lower    1.528261e+06\n",
      "95% CI Upper    3.263118e+07\n",
      "Name: 7560, dtype: float64\n"
     ]
    }
   ],
   "source": [
    "# Generated summary statistics from the 30-year Monte Carlo simulation results\n",
    "\n",
    "summary_stats = MC_SP.summarize_cumulative_return()\n",
    "\n",
    "\n",
    "print(summary_stats)"
   ]
  },
  {
   "cell_type": "markdown",
   "metadata": {},
   "source": [
    "### Analyze the Retirement Portfolio Forecasts\n",
    "\n",
    "Using the current value of only the stock and bond portion of the member's portfolio and the summary statistics that you generated from the Monte Carlo simulation, answer the following question in your Jupyter notebook:\n",
    "\n",
    "-  What are the lower and upper bounds for the expected value of the portfolio with a 95% confidence interval?\n"
   ]
  },
  {
   "cell_type": "code",
   "execution_count": 93,
   "metadata": {},
   "outputs": [
    {
     "name": "stdout",
     "output_type": "stream",
     "text": [
      "114285.054\n"
     ]
    }
   ],
   "source": [
    "# Print the current balance of the stock and bond portion of the members portfolio\n",
    "\n",
    "print(total_portfolio)"
   ]
  },
  {
   "cell_type": "code",
   "execution_count": 100,
   "metadata": {},
   "outputs": [
    {
     "name": "stdout",
     "output_type": "stream",
     "text": [
      "There is a 95% chance that an initial investment of current portfolio balance in the portfolio over the next 30 years will end within in the range of $1528260.92 and $32631181.07.\n"
     ]
    }
   ],
   "source": [
    "# Use the lower and upper `95%` confidence intervals to calculate the range of the possible outcomes for the current stock/bond portfolio\n",
    "ci_lower_thirty_cumulative_return = round(summary_stats[8],2)\n",
    "ci_upper_thirty_cumulative_return = round(summary_stats[9],2)\n",
    "\n",
    "print(f\"There is a 95% chance that an initial investment of current portfolio balance in the portfolio\"\n",
    "      f\" over the next 30 years will end within in the range of\"\n",
    "      f\" ${ci_lower_thirty_cumulative_return} and ${ci_upper_thirty_cumulative_return}.\")"
   ]
  },
  {
   "cell_type": "markdown",
   "metadata": {},
   "source": [
    "### Forecast Cumulative Returns in 10 Years\n",
    "\n",
    "The CTO of the credit union is impressed with your work on these planning tools but wonders if 30 years is a long time to wait until retirement. So, your next task is to adjust the retirement portfolio and run a new Monte Carlo simulation to find out if the changes will allow members to retire earlier.\n",
    "\n",
    "For this new Monte Carlo simulation, do the following: \n",
    "\n",
    "- Forecast the cumulative returns for 10 years from now. Because of the shortened investment horizon (30 years to 10 years), the portfolio needs to invest more heavily in the riskier asset&mdash;that is, stock&mdash;to help accumulate wealth for retirement. \n",
    "\n",
    "- Adjust the weights of the retirement portfolio so that the composition for the Monte Carlo simulation consists of 20% bonds and 80% stocks. \n",
    "\n",
    "- Run the simulation over 500 samples, and use the same data that the API call to Alpaca generated.\n",
    "\n",
    "- Based on the new Monte Carlo simulation, answer the following questions in your Jupyter notebook:\n",
    "\n",
    "    - Using the current value of only the stock and bond portion of the member's portfolio and the summary statistics that you generated from the new Monte Carlo simulation, what are the lower and upper bounds for the expected value of the portfolio (with the new weights) with a 95% confidence interval?\n",
    "\n",
    "    - Will weighting the portfolio more heavily toward stocks allow the credit union members to retire after only 10 years?\n"
   ]
  },
  {
   "cell_type": "code",
   "execution_count": 101,
   "metadata": {},
   "outputs": [],
   "source": [
    "# Configured a Monte Carlo simulation to forecast 10 years cumulative returns\n",
    "# The weights should be split 20% to AGG and 80% to SPY.\n",
    "\n",
    "MC_SP_1 = MCSimulation(portfolio_data = ticker1_data_10, num_simulation = num_sims, num_trading_days = 252*10, weights = [0.8,0.2])\n",
    "\n"
   ]
  },
  {
   "cell_type": "code",
   "execution_count": 102,
   "metadata": {},
   "outputs": [
    {
     "name": "stdout",
     "output_type": "stream",
     "text": [
      "Running Monte Carlo simulation number 0.\n",
      "Running Monte Carlo simulation number 10.\n",
      "Running Monte Carlo simulation number 20.\n",
      "Running Monte Carlo simulation number 30.\n",
      "Running Monte Carlo simulation number 40.\n",
      "Running Monte Carlo simulation number 50.\n",
      "Running Monte Carlo simulation number 60.\n",
      "Running Monte Carlo simulation number 70.\n",
      "Running Monte Carlo simulation number 80.\n",
      "Running Monte Carlo simulation number 90.\n",
      "Running Monte Carlo simulation number 100.\n",
      "Running Monte Carlo simulation number 110.\n",
      "Running Monte Carlo simulation number 120.\n",
      "Running Monte Carlo simulation number 130.\n",
      "Running Monte Carlo simulation number 140.\n",
      "Running Monte Carlo simulation number 150.\n",
      "Running Monte Carlo simulation number 160.\n",
      "Running Monte Carlo simulation number 170.\n",
      "Running Monte Carlo simulation number 180.\n",
      "Running Monte Carlo simulation number 190.\n",
      "Running Monte Carlo simulation number 200.\n",
      "Running Monte Carlo simulation number 210.\n",
      "Running Monte Carlo simulation number 220.\n",
      "Running Monte Carlo simulation number 230.\n",
      "Running Monte Carlo simulation number 240.\n",
      "Running Monte Carlo simulation number 250.\n",
      "Running Monte Carlo simulation number 260.\n",
      "Running Monte Carlo simulation number 270.\n",
      "Running Monte Carlo simulation number 280.\n",
      "Running Monte Carlo simulation number 290.\n",
      "Running Monte Carlo simulation number 300.\n",
      "Running Monte Carlo simulation number 310.\n",
      "Running Monte Carlo simulation number 320.\n",
      "Running Monte Carlo simulation number 330.\n",
      "Running Monte Carlo simulation number 340.\n",
      "Running Monte Carlo simulation number 350.\n",
      "Running Monte Carlo simulation number 360.\n",
      "Running Monte Carlo simulation number 370.\n",
      "Running Monte Carlo simulation number 380.\n",
      "Running Monte Carlo simulation number 390.\n",
      "Running Monte Carlo simulation number 400.\n",
      "Running Monte Carlo simulation number 410.\n",
      "Running Monte Carlo simulation number 420.\n",
      "Running Monte Carlo simulation number 430.\n",
      "Running Monte Carlo simulation number 440.\n",
      "Running Monte Carlo simulation number 450.\n",
      "Running Monte Carlo simulation number 460.\n",
      "Running Monte Carlo simulation number 470.\n",
      "Running Monte Carlo simulation number 480.\n",
      "Running Monte Carlo simulation number 490.\n"
     ]
    },
    {
     "data": {
      "text/html": [
       "<div>\n",
       "<style scoped>\n",
       "    .dataframe tbody tr th:only-of-type {\n",
       "        vertical-align: middle;\n",
       "    }\n",
       "\n",
       "    .dataframe tbody tr th {\n",
       "        vertical-align: top;\n",
       "    }\n",
       "\n",
       "    .dataframe thead th {\n",
       "        text-align: right;\n",
       "    }\n",
       "</style>\n",
       "<table border=\"1\" class=\"dataframe\">\n",
       "  <thead>\n",
       "    <tr style=\"text-align: right;\">\n",
       "      <th></th>\n",
       "      <th>0</th>\n",
       "      <th>1</th>\n",
       "      <th>2</th>\n",
       "      <th>3</th>\n",
       "      <th>4</th>\n",
       "      <th>5</th>\n",
       "      <th>6</th>\n",
       "      <th>7</th>\n",
       "      <th>8</th>\n",
       "      <th>9</th>\n",
       "      <th>...</th>\n",
       "      <th>490</th>\n",
       "      <th>491</th>\n",
       "      <th>492</th>\n",
       "      <th>493</th>\n",
       "      <th>494</th>\n",
       "      <th>495</th>\n",
       "      <th>496</th>\n",
       "      <th>497</th>\n",
       "      <th>498</th>\n",
       "      <th>499</th>\n",
       "    </tr>\n",
       "  </thead>\n",
       "  <tbody>\n",
       "    <tr>\n",
       "      <th>0</th>\n",
       "      <td>1.000000</td>\n",
       "      <td>1.000000</td>\n",
       "      <td>1.000000</td>\n",
       "      <td>1.000000</td>\n",
       "      <td>1.000000</td>\n",
       "      <td>1.000000</td>\n",
       "      <td>1.000000</td>\n",
       "      <td>1.000000</td>\n",
       "      <td>1.000000</td>\n",
       "      <td>1.000000</td>\n",
       "      <td>...</td>\n",
       "      <td>1.000000</td>\n",
       "      <td>1.000000</td>\n",
       "      <td>1.000000</td>\n",
       "      <td>1.000000</td>\n",
       "      <td>1.000000</td>\n",
       "      <td>1.000000</td>\n",
       "      <td>1.000000</td>\n",
       "      <td>1.000000</td>\n",
       "      <td>1.000000</td>\n",
       "      <td>1.000000</td>\n",
       "    </tr>\n",
       "    <tr>\n",
       "      <th>1</th>\n",
       "      <td>0.998919</td>\n",
       "      <td>0.997750</td>\n",
       "      <td>1.004712</td>\n",
       "      <td>1.003606</td>\n",
       "      <td>0.997143</td>\n",
       "      <td>1.003997</td>\n",
       "      <td>1.003513</td>\n",
       "      <td>1.001497</td>\n",
       "      <td>0.997921</td>\n",
       "      <td>1.003661</td>\n",
       "      <td>...</td>\n",
       "      <td>0.993048</td>\n",
       "      <td>0.995807</td>\n",
       "      <td>0.999189</td>\n",
       "      <td>0.998264</td>\n",
       "      <td>1.013318</td>\n",
       "      <td>1.009087</td>\n",
       "      <td>0.992473</td>\n",
       "      <td>1.000358</td>\n",
       "      <td>1.006915</td>\n",
       "      <td>1.010834</td>\n",
       "    </tr>\n",
       "    <tr>\n",
       "      <th>2</th>\n",
       "      <td>0.991314</td>\n",
       "      <td>1.001746</td>\n",
       "      <td>1.007143</td>\n",
       "      <td>1.003140</td>\n",
       "      <td>0.998427</td>\n",
       "      <td>1.008875</td>\n",
       "      <td>1.005197</td>\n",
       "      <td>1.008319</td>\n",
       "      <td>1.006401</td>\n",
       "      <td>1.007135</td>\n",
       "      <td>...</td>\n",
       "      <td>0.994750</td>\n",
       "      <td>0.998481</td>\n",
       "      <td>1.012970</td>\n",
       "      <td>1.002471</td>\n",
       "      <td>1.015347</td>\n",
       "      <td>1.012210</td>\n",
       "      <td>1.001100</td>\n",
       "      <td>1.004672</td>\n",
       "      <td>1.005565</td>\n",
       "      <td>1.016216</td>\n",
       "    </tr>\n",
       "    <tr>\n",
       "      <th>3</th>\n",
       "      <td>0.993125</td>\n",
       "      <td>1.001390</td>\n",
       "      <td>1.005645</td>\n",
       "      <td>1.004470</td>\n",
       "      <td>0.993018</td>\n",
       "      <td>1.012332</td>\n",
       "      <td>1.005345</td>\n",
       "      <td>1.015691</td>\n",
       "      <td>1.003002</td>\n",
       "      <td>1.017711</td>\n",
       "      <td>...</td>\n",
       "      <td>0.997691</td>\n",
       "      <td>1.001875</td>\n",
       "      <td>1.014328</td>\n",
       "      <td>1.003291</td>\n",
       "      <td>1.017627</td>\n",
       "      <td>1.016207</td>\n",
       "      <td>1.003385</td>\n",
       "      <td>1.007205</td>\n",
       "      <td>0.998005</td>\n",
       "      <td>1.019569</td>\n",
       "    </tr>\n",
       "    <tr>\n",
       "      <th>4</th>\n",
       "      <td>0.997696</td>\n",
       "      <td>1.006402</td>\n",
       "      <td>1.003370</td>\n",
       "      <td>1.000779</td>\n",
       "      <td>0.989455</td>\n",
       "      <td>1.012138</td>\n",
       "      <td>0.998936</td>\n",
       "      <td>1.011814</td>\n",
       "      <td>0.996731</td>\n",
       "      <td>1.025333</td>\n",
       "      <td>...</td>\n",
       "      <td>1.007021</td>\n",
       "      <td>0.997198</td>\n",
       "      <td>1.009954</td>\n",
       "      <td>0.997266</td>\n",
       "      <td>1.029829</td>\n",
       "      <td>1.018637</td>\n",
       "      <td>1.012376</td>\n",
       "      <td>1.000197</td>\n",
       "      <td>0.999010</td>\n",
       "      <td>1.014322</td>\n",
       "    </tr>\n",
       "    <tr>\n",
       "      <th>...</th>\n",
       "      <td>...</td>\n",
       "      <td>...</td>\n",
       "      <td>...</td>\n",
       "      <td>...</td>\n",
       "      <td>...</td>\n",
       "      <td>...</td>\n",
       "      <td>...</td>\n",
       "      <td>...</td>\n",
       "      <td>...</td>\n",
       "      <td>...</td>\n",
       "      <td>...</td>\n",
       "      <td>...</td>\n",
       "      <td>...</td>\n",
       "      <td>...</td>\n",
       "      <td>...</td>\n",
       "      <td>...</td>\n",
       "      <td>...</td>\n",
       "      <td>...</td>\n",
       "      <td>...</td>\n",
       "      <td>...</td>\n",
       "      <td>...</td>\n",
       "    </tr>\n",
       "    <tr>\n",
       "      <th>2516</th>\n",
       "      <td>108.695102</td>\n",
       "      <td>72.099188</td>\n",
       "      <td>44.418719</td>\n",
       "      <td>63.716609</td>\n",
       "      <td>91.099319</td>\n",
       "      <td>70.900823</td>\n",
       "      <td>101.369552</td>\n",
       "      <td>127.743633</td>\n",
       "      <td>71.876396</td>\n",
       "      <td>68.070148</td>\n",
       "      <td>...</td>\n",
       "      <td>125.528355</td>\n",
       "      <td>51.609088</td>\n",
       "      <td>52.738093</td>\n",
       "      <td>42.987386</td>\n",
       "      <td>50.739717</td>\n",
       "      <td>83.525278</td>\n",
       "      <td>62.732539</td>\n",
       "      <td>57.741836</td>\n",
       "      <td>64.071243</td>\n",
       "      <td>54.460428</td>\n",
       "    </tr>\n",
       "    <tr>\n",
       "      <th>2517</th>\n",
       "      <td>108.608585</td>\n",
       "      <td>71.968355</td>\n",
       "      <td>44.778578</td>\n",
       "      <td>64.010334</td>\n",
       "      <td>92.215325</td>\n",
       "      <td>71.137290</td>\n",
       "      <td>101.026515</td>\n",
       "      <td>127.319463</td>\n",
       "      <td>71.832325</td>\n",
       "      <td>67.689852</td>\n",
       "      <td>...</td>\n",
       "      <td>125.579580</td>\n",
       "      <td>51.958673</td>\n",
       "      <td>52.611651</td>\n",
       "      <td>43.112788</td>\n",
       "      <td>50.685827</td>\n",
       "      <td>83.225468</td>\n",
       "      <td>63.342201</td>\n",
       "      <td>57.625159</td>\n",
       "      <td>64.244758</td>\n",
       "      <td>54.005549</td>\n",
       "    </tr>\n",
       "    <tr>\n",
       "      <th>2518</th>\n",
       "      <td>108.572035</td>\n",
       "      <td>72.149946</td>\n",
       "      <td>44.643054</td>\n",
       "      <td>64.112415</td>\n",
       "      <td>92.322254</td>\n",
       "      <td>70.916752</td>\n",
       "      <td>101.082657</td>\n",
       "      <td>128.910877</td>\n",
       "      <td>71.698464</td>\n",
       "      <td>67.562507</td>\n",
       "      <td>...</td>\n",
       "      <td>125.460966</td>\n",
       "      <td>51.719774</td>\n",
       "      <td>52.519063</td>\n",
       "      <td>43.141966</td>\n",
       "      <td>50.461105</td>\n",
       "      <td>83.513917</td>\n",
       "      <td>63.230100</td>\n",
       "      <td>57.320978</td>\n",
       "      <td>64.593695</td>\n",
       "      <td>54.180436</td>\n",
       "    </tr>\n",
       "    <tr>\n",
       "      <th>2519</th>\n",
       "      <td>107.479660</td>\n",
       "      <td>72.450846</td>\n",
       "      <td>44.762577</td>\n",
       "      <td>64.235295</td>\n",
       "      <td>92.465088</td>\n",
       "      <td>71.419319</td>\n",
       "      <td>100.483979</td>\n",
       "      <td>129.507255</td>\n",
       "      <td>71.462591</td>\n",
       "      <td>67.469024</td>\n",
       "      <td>...</td>\n",
       "      <td>125.647159</td>\n",
       "      <td>51.646193</td>\n",
       "      <td>52.727626</td>\n",
       "      <td>43.585032</td>\n",
       "      <td>50.390069</td>\n",
       "      <td>83.903264</td>\n",
       "      <td>63.238741</td>\n",
       "      <td>57.340334</td>\n",
       "      <td>64.572351</td>\n",
       "      <td>54.115883</td>\n",
       "    </tr>\n",
       "    <tr>\n",
       "      <th>2520</th>\n",
       "      <td>109.131601</td>\n",
       "      <td>72.626475</td>\n",
       "      <td>44.692448</td>\n",
       "      <td>64.691946</td>\n",
       "      <td>93.092896</td>\n",
       "      <td>71.787764</td>\n",
       "      <td>100.448801</td>\n",
       "      <td>129.425684</td>\n",
       "      <td>71.430498</td>\n",
       "      <td>66.707875</td>\n",
       "      <td>...</td>\n",
       "      <td>125.224122</td>\n",
       "      <td>51.652288</td>\n",
       "      <td>53.042868</td>\n",
       "      <td>43.658594</td>\n",
       "      <td>50.453780</td>\n",
       "      <td>84.152959</td>\n",
       "      <td>63.266836</td>\n",
       "      <td>57.725481</td>\n",
       "      <td>64.645877</td>\n",
       "      <td>54.415376</td>\n",
       "    </tr>\n",
       "  </tbody>\n",
       "</table>\n",
       "<p>2521 rows × 500 columns</p>\n",
       "</div>"
      ],
      "text/plain": [
       "             0          1          2          3          4          5    \\\n",
       "0       1.000000   1.000000   1.000000   1.000000   1.000000   1.000000   \n",
       "1       0.998919   0.997750   1.004712   1.003606   0.997143   1.003997   \n",
       "2       0.991314   1.001746   1.007143   1.003140   0.998427   1.008875   \n",
       "3       0.993125   1.001390   1.005645   1.004470   0.993018   1.012332   \n",
       "4       0.997696   1.006402   1.003370   1.000779   0.989455   1.012138   \n",
       "...          ...        ...        ...        ...        ...        ...   \n",
       "2516  108.695102  72.099188  44.418719  63.716609  91.099319  70.900823   \n",
       "2517  108.608585  71.968355  44.778578  64.010334  92.215325  71.137290   \n",
       "2518  108.572035  72.149946  44.643054  64.112415  92.322254  70.916752   \n",
       "2519  107.479660  72.450846  44.762577  64.235295  92.465088  71.419319   \n",
       "2520  109.131601  72.626475  44.692448  64.691946  93.092896  71.787764   \n",
       "\n",
       "             6           7          8          9    ...         490  \\\n",
       "0       1.000000    1.000000   1.000000   1.000000  ...    1.000000   \n",
       "1       1.003513    1.001497   0.997921   1.003661  ...    0.993048   \n",
       "2       1.005197    1.008319   1.006401   1.007135  ...    0.994750   \n",
       "3       1.005345    1.015691   1.003002   1.017711  ...    0.997691   \n",
       "4       0.998936    1.011814   0.996731   1.025333  ...    1.007021   \n",
       "...          ...         ...        ...        ...  ...         ...   \n",
       "2516  101.369552  127.743633  71.876396  68.070148  ...  125.528355   \n",
       "2517  101.026515  127.319463  71.832325  67.689852  ...  125.579580   \n",
       "2518  101.082657  128.910877  71.698464  67.562507  ...  125.460966   \n",
       "2519  100.483979  129.507255  71.462591  67.469024  ...  125.647159   \n",
       "2520  100.448801  129.425684  71.430498  66.707875  ...  125.224122   \n",
       "\n",
       "            491        492        493        494        495        496  \\\n",
       "0      1.000000   1.000000   1.000000   1.000000   1.000000   1.000000   \n",
       "1      0.995807   0.999189   0.998264   1.013318   1.009087   0.992473   \n",
       "2      0.998481   1.012970   1.002471   1.015347   1.012210   1.001100   \n",
       "3      1.001875   1.014328   1.003291   1.017627   1.016207   1.003385   \n",
       "4      0.997198   1.009954   0.997266   1.029829   1.018637   1.012376   \n",
       "...         ...        ...        ...        ...        ...        ...   \n",
       "2516  51.609088  52.738093  42.987386  50.739717  83.525278  62.732539   \n",
       "2517  51.958673  52.611651  43.112788  50.685827  83.225468  63.342201   \n",
       "2518  51.719774  52.519063  43.141966  50.461105  83.513917  63.230100   \n",
       "2519  51.646193  52.727626  43.585032  50.390069  83.903264  63.238741   \n",
       "2520  51.652288  53.042868  43.658594  50.453780  84.152959  63.266836   \n",
       "\n",
       "            497        498        499  \n",
       "0      1.000000   1.000000   1.000000  \n",
       "1      1.000358   1.006915   1.010834  \n",
       "2      1.004672   1.005565   1.016216  \n",
       "3      1.007205   0.998005   1.019569  \n",
       "4      1.000197   0.999010   1.014322  \n",
       "...         ...        ...        ...  \n",
       "2516  57.741836  64.071243  54.460428  \n",
       "2517  57.625159  64.244758  54.005549  \n",
       "2518  57.320978  64.593695  54.180436  \n",
       "2519  57.340334  64.572351  54.115883  \n",
       "2520  57.725481  64.645877  54.415376  \n",
       "\n",
       "[2521 rows x 500 columns]"
      ]
     },
     "execution_count": 102,
     "metadata": {},
     "output_type": "execute_result"
    }
   ],
   "source": [
    "# Ran the Monte Carlo simulation to forecast 10 years cumulative returns\n",
    "\n",
    "MC_SP_1.calc_cumulative_return()"
   ]
  },
  {
   "cell_type": "code",
   "execution_count": 103,
   "metadata": {},
   "outputs": [
    {
     "data": {
      "text/plain": [
       "<AxesSubplot:title={'center':'500 Simulations of Cumulative Portfolio Return Trajectories Over the Next 2520 Trading Days.'}>"
      ]
     },
     "execution_count": 103,
     "metadata": {},
     "output_type": "execute_result"
    },
    {
     "data": {
      "image/png": "[encoded data removed]",
      "text/plain": [
       "<Figure size 432x288 with 1 Axes>"
      ]
     },
     "metadata": {
      "needs_background": "light"
     },
     "output_type": "display_data"
    }
   ],
   "source": [
    "# Visualized the 10-year Monte Carlo simulation by creating an\n",
    "\n",
    "MC_SP_1.plot_simulation()"
   ]
  },
  {
   "cell_type": "code",
   "execution_count": 104,
   "metadata": {},
   "outputs": [
    {
     "data": {
      "text/plain": [
       "<AxesSubplot:title={'center':'Distribution of Final Cumuluative Returns Across All 500 Simulations'}, ylabel='Frequency'>"
      ]
     },
     "execution_count": 104,
     "metadata": {},
     "output_type": "execute_result"
    },
    {
     "data": {
      "image/png": "[encoded data removed]",
      "text/plain": [
       "<Figure size 432x288 with 1 Axes>"
      ]
     },
     "metadata": {
      "needs_background": "light"
     },
     "output_type": "display_data"
    }
   ],
   "source": [
    "# Visualized the probability distribution of the 10-year Monte Carlo simulation \n",
    "\n",
    "MC_SP_1.plot_distribution()"
   ]
  },
  {
   "cell_type": "code",
   "execution_count": 105,
   "metadata": {},
   "outputs": [
    {
     "name": "stdout",
     "output_type": "stream",
     "text": [
      "count           500.000000\n",
      "mean             64.718921\n",
      "std              18.297561\n",
      "min              30.220397\n",
      "25%              51.807238\n",
      "50%              62.426478\n",
      "75%              73.995370\n",
      "max             129.425684\n",
      "95% CI Lower     36.636944\n",
      "95% CI Upper    107.636319\n",
      "Name: 2520, dtype: float64\n"
     ]
    }
   ],
   "source": [
    "# Generated summary statistics from the 10-year Monte Carlo simulation results\n",
    "\n",
    "summary_stats_1 = MC_SP_1.summarize_cumulative_return()\n",
    "\n",
    "print(summary_stats_1)"
   ]
  },
  {
   "cell_type": "markdown",
   "metadata": {},
   "source": [
    "### Answer the following questions:"
   ]
  },
  {
   "cell_type": "markdown",
   "metadata": {},
   "source": [
    "#### Question: Using the current value of only the stock and bond portion of the member's portfolio and the summary statistics that you generated from the new Monte Carlo simulation, what are the lower and upper bounds for the expected value of the portfolio (with the new weights) with a 95% confidence interval?"
   ]
  },
  {
   "cell_type": "code",
   "execution_count": 106,
   "metadata": {},
   "outputs": [
    {
     "name": "stdout",
     "output_type": "stream",
     "text": [
      "114285.054\n"
     ]
    }
   ],
   "source": [
    "# Printed the current balance of the stock and bond portion of the members portfolio\n",
    "\n",
    "print(total_portfolio)"
   ]
  },
  {
   "cell_type": "code",
   "execution_count": 107,
   "metadata": {},
   "outputs": [
    {
     "name": "stdout",
     "output_type": "stream",
     "text": [
      "There is a 95% chance that an initial investment of current portfolio balance in the portfolio over the next 30 years will end within in the range of $36.64 and $107.64.\n"
     ]
    }
   ],
   "source": [
    "# Use the lower and upper `95%` confidence intervals to calculate the range of the possible outcomes for the current stock/bond portfolio\n",
    "# Use the lower and upper `95%` confidence intervals to calculate the range of the possible outcomes for the current stock/bond portfolio\n",
    "ci_lower_ten_cumulative_return = round(summary_stats_1[8],2)\n",
    "ci_upper_ten_cumulative_return = round(summary_stats_1[9],2)\n",
    "\n",
    "# Print the result of your calculations\n",
    "# YOUR CODE HERE\n",
    "print(f\"There is a 95% chance that an initial investment of current portfolio balance in the portfolio\"\n",
    "      f\" over the next 30 years will end within in the range of\"\n",
    "      f\" ${ci_lower_ten_cumulative_return} and ${ci_upper_ten_cumulative_return}.\")"
   ]
  },
  {
   "cell_type": "markdown",
   "metadata": {},
   "source": [
    "#### Question: Will weighting the portfolio more heavily to stocks allow the credit union members to retire after only 10 years?"
   ]
  },
  {
   "cell_type": "raw",
   "metadata": {},
   "source": [
    "**Answer** # YOUR ANSWER HERE"
   ]
  },
  {
   "cell_type": "code",
   "execution_count": 110,
   "metadata": {},
   "outputs": [],
   "source": [
    "# Yes it should, the portfolio more heavily allocate to stocks will have a higher chance of letting members retire after 10 years."
   ]
  },
  {
   "cell_type": "code",
   "execution_count": null,
   "metadata": {},
   "outputs": [],
   "source": []
  }
 ],
 "metadata": {
  "kernelspec": {
   "display_name": "Python 3",
   "language": "python",
   "name": "python3"
  },
  "language_info": {
   "codemirror_mode": {
    "name": "ipython",
    "version": 3
   },
   "file_extension": ".py",
   "mimetype": "text/x-python",
   "name": "python",
   "nbconvert_exporter": "python",
   "pygments_lexer": "ipython3",
   "version": "3.8.5"
  }
 },
 "nbformat": 4,
 "nbformat_minor": 4
}
